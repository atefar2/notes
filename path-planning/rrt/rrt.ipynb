{
 "cells": [
  {
   "cell_type": "markdown",
   "metadata": {},
   "source": [
    "This notebook will focus on an intuitional and operational perspective of RRT (rapidly-exploring random trees). For a deeper mathematical treatment of RRT, I suggest the following material: \n",
    "\n",
    "LaValle, Steven M., and James J. Kuffner. \"Rapidly-exploring random trees: Progress and prospects.\" Algorithmic and computational robotics: new directions 5 (2001): 293-308."
   ]
  },
  {
   "cell_type": "markdown",
   "metadata": {},
   "source": [
    "For a high-level description of RRT, I like the Wikipedia article: https://en.wikipedia.org/wiki/Rapidly-exploring_random_tree"
   ]
  },
  {
   "cell_type": "markdown",
   "metadata": {},
   "source": [
    "\"A rapidly exploring random tree (RRT) is an algorithm designed to efficiently search nonconvex, high-dimensional spaces by randomly building a space-filling tree. The tree is constructed incrementally from samples drawn randomly from the search space and is inherently biased to grow towards large unsearched areas of the problem. RRTs were developed by Steven M. LaValle and James J. Kuffner Jr. They easily handle problems with obstacles and differential constraints (nonholonomic and kinodynamic) and have been widely used in autonomous robotic motion planning.\""
   ]
  },
  {
   "cell_type": "markdown",
   "metadata": {},
   "source": [
    "I think the last sentence is a little loaded and I would like to cover it in more depth in a different notebook.  One important thing is that RRT can handle path planning in continuous spaces, which typical path planners like breadth-first search, depth-first searchn, and Dijkstra's algorithm can't deal with since they may need to consider an infinite number of edges from any given node in the search graph. RRT handles this nicely by constructing a planning tree from a starting configuration, and sampling candidate nodes from the continuous configuration space. \n",
    "\n",
    "For now, let's look at how RRT works at a high-level."
   ]
  },
  {
   "cell_type": "markdown",
   "metadata": {},
   "source": [
    "\"An RRT grows a tree rooted at the starting configuration by using random samples from the search space. As each sample is drawn, a connection is attempted between it and the nearest state in the tree. If the connection is feasible (passes entirely through free space and obeys any constraints), this results in the addition of the new state to the tree. With uniform sampling of the search space, the probability of expanding an existing state is proportional to the size of its Voronoi region. As the largest Voronoi regions belong to the states on the frontier of the search, this means that the tree preferentially expands towards large unsearched areas.\n",
    "\n",
    "The length of the connection between the tree and a new state is frequently limited by a growth factor. If the random sample is further from its nearest state in the tree than this limit allows, a new state at the maximum distance from the tree along the line to the random sample is used instead of the random sample itself. The random samples can then be viewed as controlling the direction of the tree growth while the growth factor determines its rate. This maintains the space-filling bias of the RRT while limiting the size of the incremental growth.\n",
    "\n",
    "RRT growth can be biased by increasing the probability of sampling states from a specific area. Most practical implementations of RRTs make use of this to guide the search towards the planning problem goals. This is accomplished by introducing a small probability of sampling the goal to the state sampling procedure. The higher this probability, the more greedily the tree grows towards the goal.\"\n"
   ]
  },
  {
   "cell_type": "markdown",
   "metadata": {},
   "source": [
    "For now, let us analyze how RRT operates in a 2D open space, and look at how biasing the sampling process and controllign the growth factor impact performance. In this notebook, I'll be implementing from scratch, but for an (incomplete) implementation that involves obstacle avoidance, I suggest filling out Russ Tedrake's underactuated robotics homework on RRT: https://colab.research.google.com/github/RussTedrake/underactuated/blob/master/exercises/planning/rrt_planning/rrt_planning.ipynb#scrollTo=1i0oApvcbfM4"
   ]
  },
  {
   "cell_type": "markdown",
   "metadata": {},
   "source": [
    "In order to keep track of the tree, I'll make a Node class"
   ]
  },
  {
   "cell_type": "code",
   "execution_count": 134,
   "metadata": {},
   "outputs": [],
   "source": [
    "class Node:\n",
    "    def __init__(self,p,parent):\n",
    "        self.p = p\n",
    "        self.parent = parent"
   ]
  },
  {
   "cell_type": "markdown",
   "metadata": {},
   "source": [
    "We can use this for to create a root node of the tree at some arbitrary point (say, (2,3)), and all the subsequent children"
   ]
  },
  {
   "cell_type": "code",
   "execution_count": 135,
   "metadata": {},
   "outputs": [],
   "source": [
    "import numpy as np\n",
    "root = Node(p=np.array([2,3]),parent=None) #The root node, located at [2,3"
   ]
  },
  {
   "cell_type": "markdown",
   "metadata": {},
   "source": [
    "Rather than have the class have children to keep track of the path, we'll instead have each node only keep track of it's position and (only) parent, and then we will simply keep track of a (discrete) set of all the points in the planning tree. When we want to know the plan from the root to any node in the planning tree, we can just start at the goal, and go up the parent tree until we get to the root. Let's make the set of nodes in our planning tree, and start with the root in it."
   ]
  },
  {
   "cell_type": "code",
   "execution_count": 136,
   "metadata": {},
   "outputs": [],
   "source": [
    "planning_tree = [root]"
   ]
  },
  {
   "cell_type": "markdown",
   "metadata": {},
   "source": [
    "Now, let's make a function that samples random points from the continuous configuration space. For the purposes of this notebook, let's say we're only interested in points within a box cenetered around the root node. Then, we can just randomly sample points given the root and the length of the box. Remember from the Wikipedia article that this kind of random sampling has nice properties in terms of exploring at the frontier. Note that this function will just be giving us a position [x,y], we'll use it to create a Node by deciding a parent later on, but for now it just gives a tuple."
   ]
  },
  {
   "cell_type": "code",
   "execution_count": 137,
   "metadata": {},
   "outputs": [],
   "source": [
    "import random\n",
    "def sample_random_point(center,l):\n",
    "    #sample a random 2D point in the box centered around point center ([p-l,p+l],[p-1,p+l])\n",
    "    return([random.uniform(center.p[0]-l,center.p[0]+1),random.uniform(center.p[1]-l,center.p[1]+l)])"
   ]
  },
  {
   "cell_type": "markdown",
   "metadata": {},
   "source": [
    "Let's also define a goal point we want to get to. Since we don't know what the parent will be to the final configuration we end up, let's just represent the goal as a tuple of an x,y we want to get to that's somewhere inside the bounds of our search area.\n"
   ]
  },
  {
   "cell_type": "code",
   "execution_count": 138,
   "metadata": {},
   "outputs": [],
   "source": [
    "l = 1 #size of sample region around center\n",
    "goal = [root.p[0]+l/2,root.p[1]-l/2] #The goal is to the right and below the center of the root."
   ]
  },
  {
   "cell_type": "markdown",
   "metadata": {},
   "source": [
    "We can visualize the root as a red dot, the goal as a yellow dot, and a bunch of samples from the sample_random_point function as blue points on a 2D grid"
   ]
  },
  {
   "cell_type": "code",
   "execution_count": 139,
   "metadata": {},
   "outputs": [
    {
     "data": {
      "image/png": "[encoded data removed]",
      "text/plain": [
       "<Figure size 432x288 with 1 Axes>"
      ]
     },
     "metadata": {
      "needs_background": "light"
     },
     "output_type": "display_data"
    }
   ],
   "source": [
    "import matplotlib.pyplot as plt\n",
    "\n",
    "plt.plot(root.p[0],root.p[1],'ro')\n",
    "plt.plot(goal[0],goal[1],'yo')\n",
    "\n",
    "random_points = [sample_random_point(root,1) for _ in range(100)] #A bunch of random samples\n",
    "\n",
    "x,y = zip(*random_points) #convert a bunch of (x,y) into 2 bunches of separated x and y.\n",
    "\n",
    "plt.plot(x,y,'bo')\n",
    "\n",
    "\n",
    "plt.show()"
   ]
  },
  {
   "cell_type": "markdown",
   "metadata": {},
   "source": [
    "Looks like good coverage of the space. Now let's say we're interested in trying to add one of these samples to our planning tree. What we'll do is first calculate the node in the tree that is currently closest to the newly sampled node. Luckily for us, we can just loop over all the points in the set planning_tree, and find the closest one in euclidean distance."
   ]
  },
  {
   "cell_type": "code",
   "execution_count": 172,
   "metadata": {},
   "outputs": [],
   "source": [
    "def nearest_neighbor(p,ptree):\n",
    "    #given a 2d point p ([x,y]) and a planning tree (list consisting of Nodes), return the node that is closest to p\n",
    "    best_point = None #default point is root\n",
    "    best_distance = float(\"inf\")\n",
    "    for point in ptree:\n",
    "        dist = np.linalg.norm(point.p-p)\n",
    "        if dist < best_distance:\n",
    "            best_point = point\n",
    "            best_distance= dist\n",
    "    return(best_point)"
   ]
  },
  {
   "cell_type": "code",
   "execution_count": 173,
   "metadata": {},
   "outputs": [],
   "source": [
    "#sample a random point around the root, and check what's the closest in the planning_tree. since plannign tree is empty, confirm it's the root\n",
    "assert nearest_neighbor(np.array(sample_random_point(root,1)),planning_tree) == root"
   ]
  },
  {
   "cell_type": "markdown",
   "metadata": {},
   "source": [
    "When we sample a new point p, and get the nearest neighbor in the planning graph n, we want to walk in a straight line directly from n to p, since it's the direction of shortest distance. But we are limited by a growth factor, which only lets us steps of a certain, typically small, size. In case p is too far from n, then we truncate the step and only walking a fraction in the direction of p. We call this function the steering function, because it steers us in the direction of n from p, but only lets us way a small distance."
   ]
  },
  {
   "cell_type": "code",
   "execution_count": 174,
   "metadata": {},
   "outputs": [],
   "source": [
    "def steer(new,nearest,threshold=0.1):\n",
    "    #return a point extending from nearest to new that is at most length threshold\n",
    "    displacement = new-nearest.p #vector pointing from nearest to new\n",
    "    dist = np.linalg.norm(displacement) #size of displacement\n",
    "    if dist > threshold:\n",
    "        scaled_displacement = threshold* (displacement / (np.linalg.norm(displacement))) #normalize the direction and scale to threshold size\n",
    "        return nearest.p+scaled_displacement\n",
    "    else:\n",
    "        return new"
   ]
  },
  {
   "cell_type": "markdown",
   "metadata": {},
   "source": [
    "To get a sense of how the steer function works, here's a plot of the red center point (only thing in planning graph), a blue randomly sampled point, and the green \n",
    "steering point, which only steps in a small direction towards blue from the red point (unless blue is close enough, which then the steering point and new point are equal)"
   ]
  },
  {
   "cell_type": "markdown",
   "metadata": {},
   "source": [
    "We now have all the essential components of RRT! All we now do is just add the steering point to the planning tree by making the nearest neighbor its official parent, thereby adding our first edge into our plannign graph! Then, we just repeat the entire process! For the visuals, red is starting point, yellow is goal, green is steering points added to the planning graph, and blue edges represent the paths in our planning tree, and red path represents path to the goal found by RRT! We'll print out the number of steps taken until it finds the path in some delta ball."
   ]
  },
  {
   "cell_type": "code",
   "execution_count": 332,
   "metadata": {},
   "outputs": [
    {
     "name": "stdout",
     "output_type": "stream",
     "text": [
      "RRT completed in  74  steps\n",
      "RRT found a plan of length  13\n"
     ]
    },
    {
     "data": {
      "image/png": "[encoded data removed]",
      "text/plain": [
       "<Figure size 432x288 with 1 Axes>"
      ]
     },
     "metadata": {
      "needs_background": "light"
     },
     "output_type": "display_data"
    }
   ],
   "source": [
    "def RRT(root,goal,step_size=0.1,delta=0.1):\n",
    "    planning_graph = [root]\n",
    "    complete = False\n",
    "    steps = 0\n",
    "    while not complete:\n",
    "        random_point = sample_random_point(root,1)\n",
    "        nearest = nearest_neighbor(random_point,planning_graph)\n",
    "        steering = steer(np.array(random_point),nearest,step_size)\n",
    "        new_node = Node(steering,nearest)\n",
    "        planning_graph.append(new_node)\n",
    "        steps += 1\n",
    "        \n",
    "        if np.linalg.norm(new_node.p-np.array(goal)) < delta:\n",
    "            complete = True\n",
    "            goal_rep = new_node #the configuration close enough to the goal.\n",
    "    print(\"RRT completed in \",steps, \" steps\")\n",
    "        \n",
    "    for point in planning_graph:\n",
    "        plt.plot(point.p[0],point.p[1],'go')\n",
    "        if point != root:\n",
    "            x,y = zip(*(point.parent.p,point.p))\n",
    "            plt.plot(x,y,'b')\n",
    "            \n",
    "    child = goal_rep\n",
    "    parent = goal_rep.parent\n",
    "    plan_length = 1\n",
    "    while parent != root:\n",
    "        x,y = zip(*(parent.p,child.p))\n",
    "        plt.plot(x,y,'r')\n",
    "    \n",
    "        child = parent\n",
    "        parent = child.parent\n",
    "        plan_length +=1\n",
    "    x,y = zip(*(root.p,child.p))\n",
    "    plt.plot(x,y,'r')\n",
    "    print(\"RRT found a plan of length \",plan_length)\n",
    "        \n",
    "        \n",
    "    plt.plot(root.p[0],root.p[1],'ro')\n",
    "    plt.plot(goal[0],goal[1],'yo')\n",
    "    plt.plot(random_point[0],random_point[1],'bo')\n",
    "    plt.show()\n",
    "\n",
    "\n",
    "RRT(root,goal)"
   ]
  },
  {
   "cell_type": "markdown",
   "metadata": {},
   "source": [
    "We can add a bias to RRT so that it samples the goal state epsilon amount of the time, biasing it to look in that direction and move towards it quicker."
   ]
  },
  {
   "cell_type": "code",
   "execution_count": 331,
   "metadata": {},
   "outputs": [
    {
     "name": "stdout",
     "output_type": "stream",
     "text": [
      "RRT completed in  32  steps\n",
      "RRT found a plan of length  12\n"
     ]
    },
    {
     "data": {
      "image/png": "[encoded data removed]",
      "text/plain": [
       "<Figure size 432x288 with 1 Axes>"
      ]
     },
     "metadata": {
      "needs_background": "light"
     },
     "output_type": "display_data"
    }
   ],
   "source": [
    "def RRT_greedy(root,goal,step_size=0.1,delta=0.1,epsilon=0.8):\n",
    "    #1-epsilon percent of time, sample goal as random point\n",
    "    planning_graph = [root]\n",
    "    complete = False\n",
    "    steps = 0\n",
    "    while not complete:\n",
    "        random_point = random.choices([sample_random_point(root,1),goal],[epsilon,1-epsilon])[0]\n",
    "        nearest = nearest_neighbor(random_point,planning_graph)\n",
    "        steering = steer(np.array(random_point),nearest,step_size)\n",
    "        new_node = Node(steering,nearest)\n",
    "        planning_graph.append(new_node)\n",
    "        steps += 1\n",
    "        \n",
    "        if np.linalg.norm(new_node.p-np.array(goal)) < delta:\n",
    "            complete = True\n",
    "            goal_rep = new_node #the configuration close enough to the goal.\n",
    "    print(\"RRT completed in \",steps, \" steps\")\n",
    "        \n",
    "    for point in planning_graph:\n",
    "        plt.plot(point.p[0],point.p[1],'go')\n",
    "        if point != root:\n",
    "            x,y = zip(*(point.parent.p,point.p))\n",
    "            plt.plot(x,y,'b')\n",
    "            \n",
    "    child = goal_rep\n",
    "    parent = goal_rep.parent\n",
    "    plan_length = 1\n",
    "    while parent != root:\n",
    "        x,y = zip(*(parent.p,child.p))\n",
    "        plt.plot(x,y,'r')\n",
    "    \n",
    "        child = parent\n",
    "        parent = child.parent\n",
    "        plan_length +=1\n",
    "    x,y = zip(*(root.p,child.p))\n",
    "    plt.plot(x,y,'r')\n",
    "    print(\"RRT found a plan of length \",plan_length)\n",
    "        \n",
    "        \n",
    "    plt.plot(root.p[0],root.p[1],'ro')\n",
    "    plt.plot(goal[0],goal[1],'yo')\n",
    "    plt.plot(random_point[0],random_point[1],'bo')\n",
    "    plt.show()\n",
    "\n",
    "\n",
    "RRT_greedy(root,goal)"
   ]
  },
  {
   "cell_type": "markdown",
   "metadata": {},
   "source": [
    "RRT gurantees nothing about the optimality of the path, just that if one exists, it will eventually return a path to it. There are variants to RRT, like RRT*, which have stronger properties than RRT, but that's for another notebook!"
   ]
  }
 ],
 "metadata": {
  "kernelspec": {
   "display_name": "Python 3",
   "language": "python",
   "name": "python3"
  },
  "language_info": {
   "codemirror_mode": {
    "name": "ipython",
    "version": 3
   },
   "file_extension": ".py",
   "mimetype": "text/x-python",
   "name": "python",
   "nbconvert_exporter": "python",
   "pygments_lexer": "ipython3",
   "version": "3.7.0"
  }
 },
 "nbformat": 4,
 "nbformat_minor": 4
}
